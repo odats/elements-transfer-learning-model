{
 "cells": [
  {
   "cell_type": "code",
   "execution_count": 2,
   "metadata": {
    "collapsed": false,
    "deletable": true,
    "editable": true
   },
   "outputs": [
    {
     "name": "stdout",
     "output_type": "stream",
     "text": [
      "line (score = 0.97486)\n",
      "angle (score = 0.02375)\n",
      "arrow (score = 0.00139)\n"
     ]
    }
   ],
   "source": [
    "import tensorflow as tf\n",
    "import numpy as np\n",
    "import matplotlib.pyplot as plt\n",
    "import matplotlib.image as mpimg\n",
    "import cv2\n",
    "\n",
    "def get_image_data(image_path):\n",
    "    # Read in the image_data\n",
    "    image_data = tf.gfile.FastGFile(image_path, 'rb').read()\n",
    "\n",
    "    img1 = mpimg.imread(image_path)\n",
    "    test_img = cv2.resize(img1[0:100, 0:100], (299,299))\n",
    "    np_image_data = np.asarray(test_img)\n",
    "    np_image_data=cv2.normalize(np_image_data.astype('float'), None, -0.5, .5, cv2.NORM_MINMAX)\n",
    "    #maybe insert float convertion here - see edit remark!\n",
    "    image_data = np.expand_dims(np_image_data,axis=0)\n",
    "    \n",
    "    return image_data\n",
    "    \n",
    "    \n",
    "image_data1 = get_image_data(\"geometry_data/line/0a92784e2e93436fb8413d0dacfe854d.jpg\")\n",
    "image_data2 = get_image_data(\"geometry_data/line/0aee8579877849fbb5cbbe849adfe162.jpg\")\n",
    "\n",
    "image_data = [image_data1,image_data2]\n",
    "\n",
    "# Loads label file, strips off carriage return\n",
    "label_lines = [line.rstrip() for line \n",
    "                   in tf.gfile.GFile(\"retrained_labels.txt\")]\n",
    "\n",
    "# Unpersists graph from file\n",
    "with tf.gfile.FastGFile(\"retrained_graph.pb\", 'rb') as f:\n",
    "    graph_def = tf.GraphDef()\n",
    "    graph_def.ParseFromString(f.read())\n",
    "    tf.import_graph_def(graph_def, name='')\n",
    "\n",
    "with tf.Session() as sess:\n",
    "    # Feed the image_data as input to the graph and get first prediction\n",
    "    softmax_tensor = sess.graph.get_tensor_by_name('final_result:0')\n",
    "    \n",
    "    #predictions = sess.run(softmax_tensor, {'DecodeJpeg/contents:0': image_data})    \n",
    "    predictions = sess.run(softmax_tensor, {'Mul:0': image_data1})\n",
    "    \n",
    "    # Sort to show labels of first prediction in order of confidence\n",
    "    top_k = predictions[0].argsort()[-len(predictions[0]):][::-1]\n",
    "    \n",
    "    for node_id in top_k:\n",
    "        human_string = label_lines[node_id]\n",
    "        score = predictions[0][node_id]\n",
    "        print('%s (score = %.5f)' % (human_string, score))"
   ]
  },
  {
   "cell_type": "code",
   "execution_count": 3,
   "metadata": {
    "collapsed": false,
    "deletable": true,
    "editable": true
   },
   "outputs": [
    {
     "name": "stdout",
     "output_type": "stream",
     "text": [
      "14:29:22\n",
      "done\n",
      "14:31:02\n"
     ]
    }
   ],
   "source": [
    "# https://stackoverflow.com/questions/38896331/is-there-a-way-to-classify-a-batch-of-images-with-the-pretrained-inception-v3-ne\n",
    "# https://cloud.google.com/ml-engine/docs/how-tos/batch-predict#configuring_a_batch_prediction_job\n",
    "from multiprocessing.pool import ThreadPool\n",
    "\n",
    "import time\n",
    "\n",
    "pool = ThreadPool()\n",
    "\n",
    "def operation(sess, softmax, image, image_number):\n",
    "    #prediction = sess.run(softmax, {'DecodeJpeg:0': image})\n",
    "    prediction = sess.run(softmax, {'Mul:0': image})\n",
    "    return prediction, image_number\n",
    "\n",
    "with tf.Graph().as_default() as imported_graph:\n",
    "    tf.import_graph_def(graph_def, name='')\n",
    "\n",
    "image_data = []\n",
    "\n",
    "for i in range(500):\n",
    "    image_data.append(get_image_data(\"geometry_data/line/0a92784e2e93436fb8413d0dacfe854d.jpg\"))\n",
    "\n",
    "print(time.strftime('%X'))\n",
    "    \n",
    "with tf.Session(graph=imported_graph) as sess:\n",
    "    with tf.device(\"/gpu:0\"):\n",
    "        softmax_tensor = sess.graph.get_tensor_by_name('final_result:0')\n",
    "        threads = [pool.apply_async(operation, args=(sess, softmax_tensor, image_data[image_number], image_number)) for\n",
    "                   image_number in range(len(image_data))]\n",
    "        result = []\n",
    "        for thread in threads:\n",
    "            result.append(thread.get())\n",
    "            \n",
    "        for result in result:\n",
    "            predictions = result[0]\n",
    "            top_k = predictions[0].argsort()[-len(predictions[0]):][::-1]\n",
    "\n",
    "            for node_id in top_k:\n",
    "                human_string = label_lines[node_id]\n",
    "                score = predictions[0][node_id]\n",
    "                #print('%s (score = %.5f)' % (human_string, score))\n",
    "            \n",
    "        print(\"done\")\n",
    "print(time.strftime('%X'))"
   ]
  },
  {
   "cell_type": "code",
   "execution_count": 48,
   "metadata": {
    "collapsed": false,
    "deletable": true,
    "editable": true
   },
   "outputs": [],
   "source": [
    "import os\n",
    "import os.path\n",
    "from shutil import copyfile, rmtree\n",
    "import uuid\n",
    "from PIL import Image\n",
    "\n",
    "def prepare_data(folder_from, folder_to):\n",
    "    print(\"start\")\n",
    "    \n",
    "    # clear folder\n",
    "    rmtree(folder_to)\n",
    "    \n",
    "    files = []\n",
    "    for dirpath, dirnames, filenames in os.walk(folder_from):\n",
    "        for filename in [f for f in filenames if (f.endswith(\".jpg\") or f.endswith(\".png\"))]:\n",
    "            # get path to file\n",
    "            file_path = os.path.join(dirpath, filename)\n",
    "            files.append(file_path)\n",
    "            \n",
    "            # get class\n",
    "            start = file_path.index(\"/\", 0) + 1\n",
    "            end = file_path.index(\"/\", start)\n",
    "            class_name = file_path[start:end]\n",
    "            \n",
    "            # create class folder \n",
    "            if not os.path.exists(folder_to + \"/\" + class_name):\n",
    "                os.makedirs(folder_to + \"/\" + class_name)\n",
    "            \n",
    "            # copy file\n",
    "            file_name = uuid.uuid4().hex + \".jpg\"\n",
    "            \n",
    "            if(filename.endswith(\".jpg\")):\n",
    "                copyfile(file_path, folder_to + \"/\" + class_name + \"/\" + file_name)\n",
    "            elif (filename.endswith(\".png\")):\n",
    "                Image.open(file_path).save(folder_to + \"/\" + class_name + \"/\" + file_name)            \n",
    "    \n",
    "    print(\"processed files: \", len(files))"
   ]
  },
  {
   "cell_type": "code",
   "execution_count": 49,
   "metadata": {
    "collapsed": false,
    "deletable": true,
    "editable": true
   },
   "outputs": [
    {
     "name": "stdout",
     "output_type": "stream",
     "text": [
      "start\n",
      "('processed files: ', 10)\n"
     ]
    }
   ],
   "source": [
    "#prepare_data(\"data_tree\", \"geometry_data\")"
   ]
  },
  {
   "cell_type": "code",
   "execution_count": null,
   "metadata": {
    "collapsed": true,
    "deletable": true,
    "editable": true
   },
   "outputs": [],
   "source": []
  }
 ],
 "metadata": {
  "kernelspec": {
   "display_name": "Python 2",
   "language": "python",
   "name": "python2"
  },
  "language_info": {
   "codemirror_mode": {
    "name": "ipython",
    "version": 2
   },
   "file_extension": ".py",
   "mimetype": "text/x-python",
   "name": "python",
   "nbconvert_exporter": "python",
   "pygments_lexer": "ipython2",
   "version": "2.7.12"
  }
 },
 "nbformat": 4,
 "nbformat_minor": 2
}
